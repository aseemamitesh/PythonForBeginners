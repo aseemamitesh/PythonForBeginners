{
 "cells": [
  {
   "cell_type": "code",
   "execution_count": 1,
   "metadata": {},
   "outputs": [
    {
     "name": "stdout",
     "output_type": "stream",
     "text": [
      "Goodbye World!\n"
     ]
    }
   ],
   "source": [
    "print(\"Goodbye World!\")"
   ]
  },
  {
   "cell_type": "code",
   "execution_count": 2,
   "metadata": {},
   "outputs": [
    {
     "name": "stdout",
     "output_type": "stream",
     "text": [
      "more\n"
     ]
    }
   ],
   "source": [
    "print('more')"
   ]
  },
  {
   "cell_type": "code",
   "execution_count": 3,
   "metadata": {},
   "outputs": [
    {
     "name": "stdout",
     "output_type": "stream",
     "text": [
      "3\n"
     ]
    }
   ],
   "source": [
    "print(3)"
   ]
  },
  {
   "cell_type": "code",
   "execution_count": 6,
   "metadata": {},
   "outputs": [
    {
     "name": "stdout",
     "output_type": "stream",
     "text": [
      "1\n"
     ]
    }
   ],
   "source": [
    "a=1\n",
    "print(a)\n",
    "b=\"new string\""
   ]
  },
  {
   "cell_type": "code",
   "execution_count": 12,
   "metadata": {},
   "outputs": [
    {
     "name": "stdout",
     "output_type": "stream",
     "text": [
      "2\n",
      "new string\n",
      "2\n",
      "new string\n"
     ]
    }
   ],
   "source": [
    "c=a\n",
    "d=b\n",
    "print(a)\n",
    "print(b)\n",
    "print(c)\n",
    "print(d)"
   ]
  },
  {
   "cell_type": "code",
   "execution_count": 10,
   "metadata": {},
   "outputs": [],
   "source": [
    "a=2"
   ]
  },
  {
   "cell_type": "code",
   "execution_count": 13,
   "metadata": {},
   "outputs": [
    {
     "name": "stdout",
     "output_type": "stream",
     "text": [
      "2\n",
      "2\n"
     ]
    }
   ],
   "source": [
    "print(a)\n",
    "print(c)"
   ]
  },
  {
   "cell_type": "code",
   "execution_count": 14,
   "metadata": {},
   "outputs": [
    {
     "name": "stdout",
     "output_type": "stream",
     "text": [
      "second\n",
      "first\n"
     ]
    }
   ],
   "source": [
    "v1=\"first\"\n",
    "v2=\"second\"\n",
    "v3=v1\n",
    "v1=v2\n",
    "v2=v3\n",
    "print(v1)\n",
    "print(v2)"
   ]
  },
  {
   "cell_type": "code",
   "execution_count": 1,
   "metadata": {},
   "outputs": [
    {
     "name": "stdout",
     "output_type": "stream",
     "text": [
      "Hello Ami Aseem\n",
      "AMI\n",
      "ami\n",
      "Ami\n"
     ]
    }
   ],
   "source": [
    "first_name='Ami'\n",
    "last_name='Aseem'\n",
    "print('Hello '+ first_name + ' ' + last_name)\n",
    "first_name='amI'\n",
    "print(first_name.upper())\n",
    "print(first_name.lower())\n",
    "print(first_name.capitalize())"
   ]
  },
  {
   "cell_type": "code",
   "execution_count": 10,
   "metadata": {},
   "outputs": [
    {
     "name": "stdout",
     "output_type": "stream",
     "text": [
      "What is your name?Amitesh\n",
      "\n",
      "Hello Amitesh\n",
      "Hello \n",
      "I am Amitesh\n"
     ]
    }
   ],
   "source": [
    "myname = input('What is your name?')\n",
    "#blank line\n",
    "print()\n",
    "print ('Hello ' + myname)\n",
    "#new line\n",
    "print ('Hello \\nI am ' + myname)"
   ]
  },
  {
   "cell_type": "code",
   "execution_count": 6,
   "metadata": {},
   "outputs": [
    {
     "name": "stdout",
     "output_type": "stream",
     "text": [
      "1\n"
     ]
    }
   ],
   "source": [
    "test = 'What is your name'\n",
    "print (test.count('W'))"
   ]
  },
  {
   "cell_type": "code",
   "execution_count": 16,
   "metadata": {},
   "outputs": [
    {
     "name": "stdout",
     "output_type": "stream",
     "text": [
      "Hello, Ami Aseem\n",
      "Hello, Aseem, Ami\n",
      "Hello, Ami Aseem\n",
      "Hello, Ami Aseem\n"
     ]
    }
   ],
   "source": [
    "output = 'Hello, {} {}'.format(first_name.capitalize(), last_name.capitalize())\n",
    "print(output)\n",
    "output = 'Hello, {1}, {0}'.format(first_name.capitalize(), last_name.capitalize())\n",
    "print(output)\n",
    "output = 'Hello, {0} {1}'.format(first_name.capitalize(), last_name.capitalize())\n",
    "print(output)\n",
    "#python 3 only\n",
    "output = f'Hello, {first_name.capitalize()} {last_name.capitalize()}'\n",
    "print(output)"
   ]
  },
  {
   "cell_type": "code",
   "execution_count": 17,
   "metadata": {},
   "outputs": [
    {
     "name": "stdout",
     "output_type": "stream",
     "text": [
      "3.1415\n"
     ]
    }
   ],
   "source": [
    "pi=3.1415\n",
    "print(pi)"
   ]
  },
  {
   "cell_type": "code",
   "execution_count": 18,
   "metadata": {},
   "outputs": [
    {
     "name": "stdout",
     "output_type": "stream",
     "text": [
      "28 days in February\n"
     ]
    }
   ],
   "source": [
    "days_in_feb=28\n",
    "print(str(days_in_feb) + ' days in February')"
   ]
  },
  {
   "cell_type": "code",
   "execution_count": 8,
   "metadata": {},
   "outputs": [
    {
     "name": "stdout",
     "output_type": "stream",
     "text": [
      "Enter string: ab\n",
      "ba\n"
     ]
    }
   ],
   "source": [
    "str = input('Enter string: ')\n",
    "start = str[0]\n",
    "end = str[len(str)-1]\n",
    "temp = start\n",
    "start = end\n",
    "end = temp\n",
    "str = start + str[1:len(str)-1]+end\n",
    "print(str)"
   ]
  },
  {
   "cell_type": "code",
   "execution_count": 23,
   "metadata": {},
   "outputs": [
    {
     "name": "stdout",
     "output_type": "stream",
     "text": [
      "string: woohoo\n",
      "3.0\n",
      "woo\n"
     ]
    }
   ],
   "source": [
    "string = input('string: ')\n",
    "if (len(string)%2==0):\n",
    "    x=len(string)/2\n",
    "    print(x)\n",
    "    print(string[0:int(x)])\n"
   ]
  },
  {
   "cell_type": "code",
   "execution_count": null,
   "metadata": {},
   "outputs": [],
   "source": []
  }
 ],
 "metadata": {
  "kernelspec": {
   "display_name": "Python 3",
   "language": "python",
   "name": "python3"
  },
  "language_info": {
   "codemirror_mode": {
    "name": "ipython",
    "version": 3
   },
   "file_extension": ".py",
   "mimetype": "text/x-python",
   "name": "python",
   "nbconvert_exporter": "python",
   "pygments_lexer": "ipython3",
   "version": "3.7.6"
  }
 },
 "nbformat": 4,
 "nbformat_minor": 4
}
