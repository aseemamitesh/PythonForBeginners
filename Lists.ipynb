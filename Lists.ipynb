{
 "cells": [
  {
   "cell_type": "code",
   "execution_count": 2,
   "metadata": {},
   "outputs": [
    {
     "name": "stdout",
     "output_type": "stream",
     "text": [
      "[10, 15, -20]\n"
     ]
    }
   ],
   "source": [
    "#Empty lists can also be declared and append can be used to add elements\n",
    "a = [10, 15, -20]\n",
    "print(a)"
   ]
  },
  {
   "cell_type": "code",
   "execution_count": 3,
   "metadata": {},
   "outputs": [],
   "source": [
    "a.append(-25)"
   ]
  },
  {
   "cell_type": "code",
   "execution_count": 4,
   "metadata": {},
   "outputs": [
    {
     "name": "stdout",
     "output_type": "stream",
     "text": [
      "[10, 15, -20, -25]\n",
      "4\n"
     ]
    }
   ],
   "source": [
    "print(a)\n",
    "#get the number of items\n",
    "print(len(a))"
   ]
  },
  {
   "cell_type": "code",
   "execution_count": 5,
   "metadata": {},
   "outputs": [
    {
     "name": "stdout",
     "output_type": "stream",
     "text": [
      "[10, 15, -20, -25, 'me']\n"
     ]
    }
   ],
   "source": [
    "a.append(\"me\")\n",
    "print(a)"
   ]
  },
  {
   "cell_type": "code",
   "execution_count": 6,
   "metadata": {},
   "outputs": [
    {
     "name": "stdout",
     "output_type": "stream",
     "text": [
      "[10, 15, -20, -25, 'me', [1, -2]]\n"
     ]
    }
   ],
   "source": [
    "a.append([1,-2])\n",
    "print(a)"
   ]
  },
  {
   "cell_type": "code",
   "execution_count": 7,
   "metadata": {},
   "outputs": [
    {
     "data": {
      "text/plain": [
       "[1, -2]"
      ]
     },
     "execution_count": 7,
     "metadata": {},
     "output_type": "execute_result"
    }
   ],
   "source": [
    "a.pop()"
   ]
  },
  {
   "cell_type": "code",
   "execution_count": 8,
   "metadata": {},
   "outputs": [
    {
     "name": "stdout",
     "output_type": "stream",
     "text": [
      "[10, 15, -20, -25, 'me']\n",
      "15\n"
     ]
    },
    {
     "data": {
      "text/plain": [
       "10"
      ]
     },
     "execution_count": 8,
     "metadata": {},
     "output_type": "execute_result"
    }
   ],
   "source": [
    "print(a)\n",
    "print(a[1])\n",
    "a[0]"
   ]
  },
  {
   "cell_type": "code",
   "execution_count": 9,
   "metadata": {},
   "outputs": [
    {
     "name": "stdout",
     "output_type": "stream",
     "text": [
      "[5, 15, -20, -25, 'me']\n"
     ]
    }
   ],
   "source": [
    "a[0]=5\n",
    "print(a)"
   ]
  },
  {
   "cell_type": "code",
   "execution_count": 10,
   "metadata": {},
   "outputs": [
    {
     "name": "stdout",
     "output_type": "stream",
     "text": [
      "['banana', 'apple', 'microsoft']\n",
      "['microsoft', 'apple', 'banana']\n"
     ]
    }
   ],
   "source": [
    "#define a list with 3 string and swap first with last\n",
    "b = ['banana', 'apple', 'microsoft']\n",
    "print(b)\n",
    "temp = b[0]\n",
    "b[0] = b[2]\n",
    "b[2] = temp\n",
    "print(b)"
   ]
  },
  {
   "cell_type": "code",
   "execution_count": 21,
   "metadata": {},
   "outputs": [
    {
     "name": "stdout",
     "output_type": "stream",
     "text": [
      "['banana', 'apple', 'microsoft']\n",
      "['microsoft', 'apple', 'banana']\n"
     ]
    }
   ],
   "source": [
    "#another way\n",
    "b = ['banana', 'apple', 'microsoft']\n",
    "print(b)\n",
    "b[0],b[2] = b[2],b[0]\n",
    "print(b)"
   ]
  },
  {
   "cell_type": "code",
   "execution_count": 23,
   "metadata": {},
   "outputs": [
    {
     "name": "stdout",
     "output_type": "stream",
     "text": [
      "['Grapes', 'apple', 'banana', 'microsoft']\n",
      "['Grapes', 'Grapes', 'apple', 'banana', 'microsoft']\n"
     ]
    }
   ],
   "source": [
    "b.sort()\n",
    "print(b)\n",
    "b.insert(0,'Grapes') #Insert before index\n",
    "print(b)"
   ]
  },
  {
   "cell_type": "code",
   "execution_count": 32,
   "metadata": {},
   "outputs": [
    {
     "name": "stdout",
     "output_type": "stream",
     "text": [
      "['Amitesh', 'Abhishek', 'Animesh', 'New']\n",
      "['Abhishek', 'Animesh']\n",
      "['Amitesh', 'Abhishek', 'Animesh']\n",
      "['New']\n"
     ]
    }
   ],
   "source": [
    "#       0         1           2         3\n",
    "names = ['Amitesh','Abhishek','Animesh','New']\n",
    "#start and end index, end index is upto not including\n",
    "presenters = names[1:3]\n",
    "\n",
    "print(names)\n",
    "print(presenters)\n",
    "\n",
    "new_list = names[:3]\n",
    "print(new_list)\n",
    "\n",
    "new_list = names[3:]\n",
    "print(new_list)"
   ]
  },
  {
   "cell_type": "code",
   "execution_count": null,
   "metadata": {},
   "outputs": [],
   "source": []
  }
 ],
 "metadata": {
  "kernelspec": {
   "display_name": "Python 3",
   "language": "python",
   "name": "python3"
  },
  "language_info": {
   "codemirror_mode": {
    "name": "ipython",
    "version": 3
   },
   "file_extension": ".py",
   "mimetype": "text/x-python",
   "name": "python",
   "nbconvert_exporter": "python",
   "pygments_lexer": "ipython3",
   "version": "3.7.6"
  }
 },
 "nbformat": 4,
 "nbformat_minor": 4
}
