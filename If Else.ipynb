{
 "cells": [
  {
   "cell_type": "code",
   "execution_count": 1,
   "metadata": {},
   "outputs": [
    {
     "name": "stdout",
     "output_type": "stream",
     "text": [
      "a is less than b\n",
      "a=\n",
      "1\n",
      "b=\n",
      "2\n",
      "back to main\n"
     ]
    }
   ],
   "source": [
    "a=1\n",
    "b=2\n",
    "if a<b:\n",
    "    print(\"a is less than b\")\n",
    "    print('a=')\n",
    "    print(a)\n",
    "    print('b=')\n",
    "    print(b)\n",
    "elif a==b:\n",
    "    print('a is equal to b')\n",
    "else:\n",
    "    print('a is greater than b')\n",
    "    print('a=')\n",
    "    print(a)\n",
    "    print('b=')\n",
    "    print(b)\n",
    "print('back to main')    "
   ]
  },
  {
   "cell_type": "code",
   "execution_count": 2,
   "metadata": {},
   "outputs": [
    {
     "name": "stdout",
     "output_type": "stream",
     "text": [
      "x is less than y\n"
     ]
    }
   ],
   "source": [
    "x=11\n",
    "y=12\n",
    "\n",
    "if x<y:\n",
    "    print('x is less than y')\n",
    "else:\n",
    "    if x==y:\n",
    "        print('x is equal to y')\n",
    "    else:\n",
    "        print('x is greater than y')\n",
    "        "
   ]
  },
  {
   "cell_type": "code",
   "execution_count": 3,
   "metadata": {},
   "outputs": [
    {
     "name": "stdout",
     "output_type": "stream",
     "text": [
      "Amitesh\n",
      "is not overweight:\n",
      "17.5\n"
     ]
    }
   ],
   "source": [
    "name = 'Amitesh'\n",
    "height_inmtr=2\n",
    "weight_inkg=70\n",
    "\n",
    "#bmi = weight / (height*height) or height to the power of 2\n",
    "bmi = weight_inkg/(height_inmtr ** 2)\n",
    "\n",
    "if bmi<25:\n",
    "    print(name)\n",
    "    print('is not overweight:')\n",
    "    print(bmi)\n",
    "else:\n",
    "    print(name)\n",
    "    print('is overweight:')\n",
    "    print(bmi)\n",
    "    "
   ]
  },
  {
   "cell_type": "code",
   "execution_count": 2,
   "metadata": {},
   "outputs": [
    {
     "name": "stdout",
     "output_type": "stream",
     "text": [
      "Please enter your country name: CANADA\n",
      "Please enter your province name: Torono\n",
      "Your tax is: 0.13\n"
     ]
    }
   ],
   "source": [
    "#If person is from canada he will pay tax, for quebec 5%, british columbia 5%, ontario 7% and rest 13%\n",
    "#0 tax if not from canada\n",
    "\n",
    "cntry = input('Please enter your country name: ')\n",
    "if(str(cntry.lower()) == 'canada'):\n",
    "    prvname=input('Please enter your province name: ')\n",
    "    #if(str(prvname.lower())=='Quebec'):\n",
    "     #   tax = 0.05\n",
    "      #  print('Your tax is: '+str(tax))\n",
    "    #elif(str(prvname)=='British Columbia'):\n",
    "     #   tax = 0.05\n",
    "      #  print('Your tax is: '+str(tax))\n",
    "    \n",
    "    # Instead of commented code we will use In clause as both province have the same tax\n",
    "    if prvname.lower() in('quebec', 'british columbia'):\n",
    "        tax = 0.05\n",
    "        print('Your tax is: '+str(tax))\n",
    "    elif(str(prvname.lower())=='ontario'):\n",
    "        tax = 0.07\n",
    "        print('Your tax is: '+str(tax))\n",
    "    else:\n",
    "        tax=0.13\n",
    "        print('Your tax is: '+str(tax))\n",
    "else:\n",
    "    print('You are not Canadian! You are from '+cntry.capitalize() +'.')\n",
    "    print('You do not have to pay any tax.')\n",
    "\n",
    "    \n",
    "    "
   ]
  },
  {
   "cell_type": "code",
   "execution_count": 9,
   "metadata": {},
   "outputs": [
    {
     "name": "stdout",
     "output_type": "stream",
     "text": [
      "Well Done!\n",
      "Well Done!\n",
      "Well Done!\n",
      "Please enter your grade point average: 0.6\n",
      "Please enter your lowest grade: 0.8\n",
      "I am sorry! You did not make it to the honour roll.\n"
     ]
    }
   ],
   "source": [
    "#If GPA is more than or equal to 85 and lowest grade is more than or equal to 70\n",
    "# YOu will be in honours roll\n",
    "gpa = 0.9\n",
    "lowest_grade=0.74\n",
    "\n",
    "#1\n",
    "\n",
    "if gpa>=.85:\n",
    "    if lowest_grade>=0.70:\n",
    "        print('Well Done!')\n",
    "        \n",
    "\n",
    "#2\n",
    "if gpa >= 0.85 and lowest_grade >= 0.7:\n",
    "    print('Well Done!')\n",
    "    \n",
    "#3\n",
    "if gpa >= 0.85 and lowest_grade >= 0.7:\n",
    "    honours = True\n",
    "else:\n",
    "    honours = False\n",
    "    \n",
    "if honours:\n",
    "    print('Well Done!')\n",
    "    \n",
    "#4\n",
    "gp_avg = float(input('Please enter your grade point average: '))\n",
    "low_grd = float(input('Please enter your lowest grade: '))\n",
    "\n",
    "if gp_avg >= 0.85 and low_grd >= 0.7:\n",
    "    print('You made the honour roll!')\n",
    "else:\n",
    "    print('I am sorry! You did not make it to the honour roll.')"
   ]
  },
  {
   "cell_type": "code",
   "execution_count": null,
   "metadata": {},
   "outputs": [],
   "source": []
  }
 ],
 "metadata": {
  "kernelspec": {
   "display_name": "Python 3",
   "language": "python",
   "name": "python3"
  },
  "language_info": {
   "codemirror_mode": {
    "name": "ipython",
    "version": 3
   },
   "file_extension": ".py",
   "mimetype": "text/x-python",
   "name": "python",
   "nbconvert_exporter": "python",
   "pygments_lexer": "ipython3",
   "version": "3.7.6"
  }
 },
 "nbformat": 4,
 "nbformat_minor": 4
}
