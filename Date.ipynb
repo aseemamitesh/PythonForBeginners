{
 "cells": [
  {
   "cell_type": "code",
   "execution_count": 6,
   "metadata": {},
   "outputs": [
    {
     "name": "stdout",
     "output_type": "stream",
     "text": [
      "Today is: 2020-04-29 18:03:36.229125\n",
      "Yesterday was: 2020-04-28 18:03:36.229125\n",
      "Last week was: 2020-04-22 18:03:36.229125\n"
     ]
    }
   ],
   "source": [
    "#Current date and time\n",
    "#use datetime library\n",
    "from datetime import datetime, timedelta\n",
    "\n",
    "today=datetime.now()\n",
    "print('Today is: '+str(today))\n",
    "\n",
    "#timedelta used to define period of time\n",
    "one_day=timedelta(days=1)\n",
    "yesterday=today-one_day\n",
    "print('Yesterday was: ' + str(yesterday))\n",
    "\n",
    "week=timedelta(weeks=1)\n",
    "last_week=today-week\n",
    "print('Last week was: ' + str(last_week))"
   ]
  },
  {
   "cell_type": "code",
   "execution_count": 8,
   "metadata": {},
   "outputs": [
    {
     "name": "stdout",
     "output_type": "stream",
     "text": [
      "Day: 29\n",
      "Month: 4\n",
      "Year: 2020\n"
     ]
    }
   ],
   "source": [
    "#tpday is deifned above has current date\n",
    "print('Day: '+str(today.day))\n",
    "print('Month: '+str(today.month))\n",
    "print('Year: '+str(today.year))"
   ]
  },
  {
   "cell_type": "code",
   "execution_count": 1,
   "metadata": {},
   "outputs": [
    {
     "name": "stdout",
     "output_type": "stream",
     "text": [
      "When is your birthday (dd/mm/yyyy)? 08/05/1988\n",
      "Birthdate: 1988-05-08 00:00:00\n"
     ]
    }
   ],
   "source": [
    "#convert string into datetime object\n",
    "from datetime import datetime\n",
    "birthday = input('When is your birthday (dd/mm/yyyy)? ')\n",
    "\n",
    "#capital y --> Y\n",
    "birthday_date = datetime.strptime(birthday, '%d/%m/%Y')\n",
    "print('Birthdate: '+str(birthday_date))\n"
   ]
  },
  {
   "cell_type": "code",
   "execution_count": null,
   "metadata": {},
   "outputs": [],
   "source": []
  }
 ],
 "metadata": {
  "kernelspec": {
   "display_name": "Python 3",
   "language": "python",
   "name": "python3"
  },
  "language_info": {
   "codemirror_mode": {
    "name": "ipython",
    "version": 3
   },
   "file_extension": ".py",
   "mimetype": "text/x-python",
   "name": "python",
   "nbconvert_exporter": "python",
   "pygments_lexer": "ipython3",
   "version": "3.7.6"
  }
 },
 "nbformat": 4,
 "nbformat_minor": 4
}
