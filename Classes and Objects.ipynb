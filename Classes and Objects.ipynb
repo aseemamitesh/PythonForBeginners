{
 "cells": [
  {
   "cell_type": "code",
   "execution_count": 1,
   "metadata": {},
   "outputs": [],
   "source": [
    "class Robot:\n",
    "    #when func is in class we need to add additional argument self\n",
    "    def self_intro(self):\n",
    "        print(\"My name is \" + self.name) #self is this in Java, refer to whatever object you are running this func on"
   ]
  },
  {
   "cell_type": "code",
   "execution_count": 2,
   "metadata": {},
   "outputs": [],
   "source": [
    "r1 = Robot()\n",
    "r1.name = \"Tom\"\n",
    "r1.color = \"Black\"\n",
    "r1.weight = 30\n",
    "\n",
    "r2 = Robot()\n",
    "r2.name = \"Jerry\"\n",
    "r2.color = \"Grey\"\n",
    "r2.weight = 10"
   ]
  },
  {
   "cell_type": "code",
   "execution_count": 3,
   "metadata": {},
   "outputs": [
    {
     "name": "stdout",
     "output_type": "stream",
     "text": [
      "My name is Tom\n",
      "My name is Jerry\n"
     ]
    }
   ],
   "source": [
    "r1.self_intro() #self will refer to r1\n",
    "r2.self_intro()"
   ]
  },
  {
   "cell_type": "code",
   "execution_count": 5,
   "metadata": {},
   "outputs": [],
   "source": [
    "#in the 2nd block of code if we misspel the attribute name it will throw an error for e.g. r1.namee = \"Tom\"\n",
    "#can be fixed with constructor\n",
    "#to create custom constructor __init__, check below\n",
    "\n",
    "class RobotNew:\n",
    "    #usually the name here will match below so we can rewrite givenName as name\n",
    "    def __init__(self, givenName, givenColor, givenWeight): \n",
    "        self.name = givenName\n",
    "        self.color = givenColor\n",
    "        self.weight = givenWeight\n",
    "    \n",
    "    def self_intro1(self):\n",
    "        print(\"My name is \" + self.name)"
   ]
  },
  {
   "cell_type": "code",
   "execution_count": 6,
   "metadata": {},
   "outputs": [],
   "source": [
    "rn1 = RobotNew(\"Tom\",\"Black\",30)\n",
    "rn2 = RobotNew(\"Jerry\",\"Grey\",10)"
   ]
  },
  {
   "cell_type": "code",
   "execution_count": 7,
   "metadata": {},
   "outputs": [
    {
     "name": "stdout",
     "output_type": "stream",
     "text": [
      "My name is Tom\n",
      "My name is Jerry\n"
     ]
    }
   ],
   "source": [
    "rn1.self_intro1()\n",
    "rn2.self_intro1()"
   ]
  },
  {
   "cell_type": "code",
   "execution_count": 8,
   "metadata": {},
   "outputs": [],
   "source": [
    "# Will create Person class with attributes name, personality and isSitting\n",
    "# method sit_down will turn boolean from false to true, and stand_up will turn true to false \n",
    "# Alice, aggresive, False and Becky, Talkative, True\n",
    "# To show p1 owns rn2 we need another property robotOwned in Person class\n",
    "\n",
    "#RobotNew is already defined above\n",
    "\n",
    "class Person:\n",
    "    def __init__(self, pName, pPersonality, pIsSitting): #can add robotowned here and assign below or another way below\n",
    "        self.name = pName\n",
    "        self.personality = pPersonality\n",
    "        self.isSitting = pIsSitting\n",
    "                \n",
    "    def sit_down(self):\n",
    "        self.isSitting = True\n",
    "        \n",
    "    def stand_up(self):\n",
    "        self.isSitting = False"
   ]
  },
  {
   "cell_type": "code",
   "execution_count": 9,
   "metadata": {},
   "outputs": [],
   "source": [
    "p1 = Person('Alice','aggressive',False)\n",
    "p2 = Person('Becky','talkative', True)"
   ]
  },
  {
   "cell_type": "code",
   "execution_count": 11,
   "metadata": {},
   "outputs": [],
   "source": [
    "p1.robotOwned = rn2\n",
    "p2.robotOwned = rn1"
   ]
  },
  {
   "cell_type": "code",
   "execution_count": 12,
   "metadata": {},
   "outputs": [
    {
     "name": "stdout",
     "output_type": "stream",
     "text": [
      "My name is Jerry\n"
     ]
    }
   ],
   "source": [
    "p1.robotOwned.self_intro1() # should print name of rn2"
   ]
  },
  {
   "cell_type": "code",
   "execution_count": 13,
   "metadata": {},
   "outputs": [
    {
     "name": "stdout",
     "output_type": "stream",
     "text": [
      "My name is Tom\n"
     ]
    }
   ],
   "source": [
    "p2.robotOwned.self_intro1()"
   ]
  },
  {
   "cell_type": "code",
   "execution_count": 14,
   "metadata": {},
   "outputs": [
    {
     "data": {
      "text/plain": [
       "'Grey'"
      ]
     },
     "execution_count": 14,
     "metadata": {},
     "output_type": "execute_result"
    }
   ],
   "source": [
    "p1.robotOwned.color"
   ]
  }
 ],
 "metadata": {
  "kernelspec": {
   "display_name": "Python 3",
   "language": "python",
   "name": "python3"
  },
  "language_info": {
   "codemirror_mode": {
    "name": "ipython",
    "version": 3
   },
   "file_extension": ".py",
   "mimetype": "text/x-python",
   "name": "python",
   "nbconvert_exporter": "python",
   "pygments_lexer": "ipython3",
   "version": "3.7.6"
  }
 },
 "nbformat": 4,
 "nbformat_minor": 4
}
