{
 "cells": [
  {
   "cell_type": "code",
   "execution_count": 2,
   "metadata": {},
   "outputs": [
    {
     "name": "stdout",
     "output_type": "stream",
     "text": [
      "Not allowed to divide a number by 0\n",
      "This is clean up code\n"
     ]
    }
   ],
   "source": [
    "x = 42\n",
    "y = 0\n",
    "\n",
    "try:\n",
    "    #pass\n",
    "    print(x/y)\n",
    "#except expression as identifier:\n",
    "except ZeroDivisionError as e:\n",
    "    #pass\n",
    "    print('Not allowed to divide a number by 0')\n",
    "else:\n",
    "    #pass\n",
    "    print('Something else went wrong')\n",
    "finally:\n",
    "    #pass\n",
    "    print('This is clean up code')\n",
    "\n",
    "#print(x/y)"
   ]
  },
  {
   "cell_type": "code",
   "execution_count": null,
   "metadata": {},
   "outputs": [],
   "source": [
    " "
   ]
  }
 ],
 "metadata": {
  "kernelspec": {
   "display_name": "Python 3",
   "language": "python",
   "name": "python3"
  },
  "language_info": {
   "codemirror_mode": {
    "name": "ipython",
    "version": 3
   },
   "file_extension": ".py",
   "mimetype": "text/x-python",
   "name": "python",
   "nbconvert_exporter": "python",
   "pygments_lexer": "ipython3",
   "version": "3.7.6"
  }
 },
 "nbformat": 4,
 "nbformat_minor": 4
}
