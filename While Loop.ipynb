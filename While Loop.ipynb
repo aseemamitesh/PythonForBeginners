{
 "cells": [
  {
   "cell_type": "code",
   "execution_count": 2,
   "metadata": {},
   "outputs": [
    {
     "name": "stdout",
     "output_type": "stream",
     "text": [
      "10\n"
     ]
    }
   ],
   "source": [
    "total=0\n",
    "j=1\n",
    "while j<5:\n",
    "    total += j\n",
    "    j += 1\n",
    "print(total)"
   ]
  },
  {
   "cell_type": "code",
   "execution_count": 7,
   "metadata": {},
   "outputs": [
    {
     "name": "stdout",
     "output_type": "stream",
     "text": [
      "15\n"
     ]
    }
   ],
   "source": [
    "\n",
    "listnew=[5,4,3,2,1]\n",
    "\n",
    "totalnew=0\n",
    "i=0\n",
    "while i<len(listnew) and listnew[i]>0:\n",
    "    totalnew+=listnew[i]\n",
    "    i+=1\n",
    "print(totalnew)\n"
   ]
  },
  {
   "cell_type": "code",
   "execution_count": 11,
   "metadata": {},
   "outputs": [
    {
     "name": "stdout",
     "output_type": "stream",
     "text": [
      "17\n"
     ]
    }
   ],
   "source": [
    "list=[5,4,4,3,1,-2,-3]\n",
    "\n",
    "tot = 0\n",
    "for item in list:\n",
    "    if item>0:\n",
    "        tot+=item\n",
    "\n",
    "print(tot)\n",
    "    "
   ]
  },
  {
   "cell_type": "code",
   "execution_count": 13,
   "metadata": {},
   "outputs": [
    {
     "name": "stdout",
     "output_type": "stream",
     "text": [
      "17\n"
     ]
    }
   ],
   "source": [
    "list1=[5,4,4,3,1,-2,-3]\n",
    "\n",
    "tot1 = 0\n",
    "for x in list:\n",
    "    if x<=0:\n",
    "        break\n",
    "    tot1+=x\n",
    "print(tot1)"
   ]
  },
  {
   "cell_type": "code",
   "execution_count": 23,
   "metadata": {},
   "outputs": [
    {
     "name": "stdout",
     "output_type": "stream",
     "text": [
      "-17\n"
     ]
    }
   ],
   "source": [
    "# sum of all negative num in list\n",
    "given_list=[7,5,4,4,3,1,-2,-3,-5,-7]\n",
    "negsum=0\n",
    "k=0\n",
    "\n",
    "while k<len(given_list):\n",
    "    if given_list[k]<0:\n",
    "        negsum+=given_list[k]\n",
    "    k+=1\n",
    "print(negsum)"
   ]
  },
  {
   "cell_type": "code",
   "execution_count": 26,
   "metadata": {},
   "outputs": [
    {
     "name": "stdout",
     "output_type": "stream",
     "text": [
      "-17\n"
     ]
    }
   ],
   "source": [
    "#sum of negative num in list sorted in descending order but length is unknown\n",
    "given_list1=[7,5,4,4,3,1,-2,-3,-5,-7]\n",
    "\n",
    "addneg=0\n",
    "j=len(given_list1)-1\n",
    "\n",
    "while given_list1[j]<0:\n",
    "    addneg +=given_list1[j]\n",
    "    j-=1\n",
    "    \n",
    "print(addneg)"
   ]
  },
  {
   "cell_type": "code",
   "execution_count": null,
   "metadata": {},
   "outputs": [],
   "source": []
  }
 ],
 "metadata": {
  "kernelspec": {
   "display_name": "Python 3",
   "language": "python",
   "name": "python3"
  },
  "language_info": {
   "codemirror_mode": {
    "name": "ipython",
    "version": 3
   },
   "file_extension": ".py",
   "mimetype": "text/x-python",
   "name": "python",
   "nbconvert_exporter": "python",
   "pygments_lexer": "ipython3",
   "version": "3.7.6"
  }
 },
 "nbformat": 4,
 "nbformat_minor": 4
}
